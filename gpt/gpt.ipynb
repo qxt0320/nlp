{
 "cells": [
  {
   "cell_type": "code",
   "execution_count": 2,
   "id": "71abf59d",
   "metadata": {},
   "outputs": [
    {
     "name": "stderr",
     "output_type": "stream",
     "text": [
      "Truncation was not explicitly activated but `max_length` is provided a specific value, please use `truncation=True` to explicitly truncate examples to max length. Defaulting to 'longest_first' truncation strategy. If you encode pairs of sequences (GLUE-style) with the tokenizer you can select this strategy more precisely by providing a specific strategy to `truncation`.\n"
     ]
    },
    {
     "name": "stdout",
     "output_type": "stream",
     "text": [
      "[{'generated_text': '在一个没有网络的世界里 ， 你 只 是 走 在 那 里 你 什 么 都 不 懂 ， 也 都 被 你 忽 悠 了 。 他 是 那 么 的 不 懂 ， 那 么 的 无 趣 。 你 的 爱 人 是 那 么 的 不 懂 ， 你 的 一 切 在 他 眼 里 都 是 荒 谬 的 。 这 是 一 个 看 似 简 单 的 结 论 ， 却 让 人 无 言 以 对 ， 你 要 坚 守 这 个 结 论 你 必 须 坚 持 这 个 结 论 ， 否 则 你 会 感 到 绝 望 ， 这 就 是 ， 孤 独 。 这 就 是 一 段 不 需 要 用 言 语 来 控 制 的 历 程 ， 无 论 在 你 面 前 是 同 性 恋 是 女 权 还 是 男 权 ， 你 在 自 己 的 心 里 都 必 须 坚 持 这 个 结 论 。 你 爱 的 人 是 这 样 ， 你 看 的 人 是 这 样 ， 但 不 是 那 么 喜 欢 的 人 是 这 样 。 一 路 走 来 你 看 到 的 ， 看 不 到 的 ， 在 不 同 的 时 期 ， 在 不 同 的 地 方 ， 在 无 法 言 语 ， 在 不 同 的 人 身 上 同 时 发 生 着 。 人 与 人 之 间 是 相 互 尊 重 ， 相 互 理 解 的 。 《 红 楼 梦 》 里 的 两 个 孩 子 ， 一 个 是 宝 玉 ， 一 个 是 你 自 己 。 那 么 你 该 如 何 面 对 人 生 ， 看 哪 一 个 时 期 ， 那 些 悲 伤 变 为 甜 蜜 。 你 的 悲 伤 就 在 那 里 发 生 。 你 是 这 样 的 人 生 ， 你 有 这 份 悲 愁 ， 你 会 喜 欢 那 些 悲 伤 变 成 甜 蜜 ， 你 会 感 觉 你 的 喜 欢 真 诚 。 你 会 觉 得 你 的 爱 人 也 一 样 。 你 的 世 界 是 这 样 的 人 生 ， 你 的 爱 人 也 一 样 。 喜 欢 的 人 也 一 样 。 如 果 你 不 喜 欢 ， 还 是 不 喜 欢 你 的 人 生 ， 你 会 感 觉 到 那 么 难 受 ， 那 么 难 受 。 你 不 喜 欢 别 人 喜 欢 你 ， 但 你 不 喜 欢 别 人 喜 欢 你! 为 什 么 不 喜 欢? 这 个 世 界 有 很 多 人 对 你 是 好 的 ， 一 个 人 是 坏 的 ， 当 然 也 更'}]\n"
     ]
    }
   ],
   "source": [
    "from transformers import BertTokenizer, GPT2LMHeadModel, TextGenerationPipeline\n",
    "tokenizer = BertTokenizer.from_pretrained(\"./gpt2-chinese-cluecorpussmall\")\n",
    "model = GPT2LMHeadModel.from_pretrained(\"./gpt2-chinese-cluecorpussmall\")\n",
    "text_generator = TextGenerationPipeline(model, tokenizer)   \n",
    "result = text_generator(\"在一个没有网络的世界里\", max_length=500, do_sample=True)\n",
    "print(result)"
   ]
  }
 ],
 "metadata": {
  "kernelspec": {
   "display_name": "Python 3",
   "language": "python",
   "name": "python3"
  },
  "language_info": {
   "codemirror_mode": {
    "name": "ipython",
    "version": 3
   },
   "file_extension": ".py",
   "mimetype": "text/x-python",
   "name": "python",
   "nbconvert_exporter": "python",
   "pygments_lexer": "ipython3",
   "version": "3.10.2"
  }
 },
 "nbformat": 4,
 "nbformat_minor": 5
}
