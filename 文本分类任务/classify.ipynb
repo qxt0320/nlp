{
 "cells": [
  {
   "cell_type": "code",
   "execution_count": 8,
   "id": "fcedc0f9",
   "metadata": {},
   "outputs": [],
   "source": [
    "import re\n",
    "import os\n",
    "from jieba import cut\n",
    "from itertools import chain\n",
    "from collections import Counter\n",
    "import numpy as np\n",
    "from sklearn.naive_bayes import MultinomialNB\n",
    "from sklearn.feature_extraction.text import TfidfVectorizer\n"
   ]
  },
  {
   "cell_type": "code",
   "execution_count": 10,
   "id": "8db62878",
   "metadata": {},
   "outputs": [],
   "source": [
    "def get_words(filename):\n",
    "    \"\"\"读取文本并过滤无效字符和长度为1的词\"\"\"\n",
    "    words = []\n",
    "    with open(filename, 'r', encoding='utf-8') as fr:\n",
    "        for line in fr:\n",
    "            line = line.strip()\n",
    "            # 过滤无效字符\n",
    "            line = re.sub(r'[.【】0-9、——。，！~\\*]', '', line)\n",
    "            # 使用jieba.cut()方法对文本切词处理\n",
    "            line = cut(line)\n",
    "            # 过滤长度为1的词\n",
    "            line = filter(lambda word: len(word) > 1, line)\n",
    "            words.extend(line)\n",
    "    return words"
   ]
  },
  {
   "cell_type": "code",
   "execution_count": 11,
   "id": "69067dc7",
   "metadata": {},
   "outputs": [],
   "source": [
    "def get_text_content(filename):\n",
    "    \"\"\"读取文本内容并返回字符串，用于TF-IDF处理\"\"\"\n",
    "    with open(filename, 'r', encoding='utf-8') as fr:\n",
    "        content = fr.read()\n",
    "        # 过滤无效字符\n",
    "        content = re.sub(r'[.【】0-9、——。，！~\\*]', '', content)\n",
    "        return content"
   ]
  },
  {
   "cell_type": "code",
   "execution_count": 12,
   "id": "e6b8b15a",
   "metadata": {},
   "outputs": [],
   "source": [
    "all_words = []\n",
    "def get_top_words(top_num):\n",
    "    \"\"\"遍历邮件建立词库后返回出现次数最多的词\"\"\"\n",
    "    filename_list = ['邮件_files/{}.txt'.format(i) for i in range(151)]\n",
    "    # 遍历邮件建立词库\n",
    "    for filename in filename_list:\n",
    "        all_words.append(get_words(filename))\n",
    "    # itertools.chain()把all_words内的所有列表组合成一个列表\n",
    "    # collections.Counter()统计词个数\n",
    "    freq = Counter(chain(*all_words))\n",
    "    return [i[0] for i in freq.most_common(top_num)]"
   ]
  },
  {
   "cell_type": "code",
   "execution_count": 13,
   "id": "a3d3c552",
   "metadata": {},
   "outputs": [],
   "source": [
    "def extract_features(feature_type='high_freq', top_num=100):\n",
    "    \"\"\"特征提取函数，根据feature_type参数选择特征提取方式\n",
    "    \n",
    "    参数:\n",
    "        feature_type: 特征提取方式，'high_freq'表示高频词特征，'tfidf'表示TF-IDF加权特征\n",
    "        top_num: 选取的特征词数量\n",
    "    \n",
    "    返回:\n",
    "        feature_matrix: 特征矩阵\n",
    "        vectorizer: 如果使用TF-IDF特征，返回TfidfVectorizer对象；否则返回None\n",
    "    \"\"\"\n",
    "    if feature_type == 'high_freq':\n",
    "        # 使用高频词特征\n",
    "        top_words = get_top_words(top_num)\n",
    "        vector = []\n",
    "        for words in all_words:\n",
    "            word_map = list(map(lambda word: words.count(word), top_words))\n",
    "            vector.append(word_map)\n",
    "        return np.array(vector), top_words\n",
    "    \n",
    "    elif feature_type == 'tfidf':\n",
    "        # 使用TF-IDF加权特征\n",
    "        filename_list = ['邮件_files/{}.txt'.format(i) for i in range(151)]\n",
    "        corpus = []\n",
    "        for filename in filename_list:\n",
    "            corpus.append(get_text_content(filename))\n",
    "        \n",
    "        # 初始化TfidfVectorizer\n",
    "        tfidf_vectorizer = TfidfVectorizer(\n",
    "            tokenizer=lambda x: [w for w in cut(x) if len(w) > 1],\n",
    "            max_features=top_num\n",
    "        )\n",
    "        # 提取TF-IDF特征\n",
    "        tfidf_matrix = tfidf_vectorizer.fit_transform(corpus)\n",
    "        return tfidf_matrix, tfidf_vectorizer\n",
    "    \n",
    "    else:\n",
    "        raise ValueError(\"Invalid feature_type. Must be 'high_freq' or 'tfidf'\")"
   ]
  },
  {
   "cell_type": "code",
   "execution_count": 14,
   "id": "4cb85740",
   "metadata": {},
   "outputs": [],
   "source": [
    "def train_model(feature_type='high_freq', top_num=100):\n",
    "    \"\"\"训练模型\n",
    "    \n",
    "    参数:\n",
    "        feature_type: 特征提取方式，'high_freq'表示高频词特征，'tfidf'表示TF-IDF加权特征\n",
    "        top_num: 选取的特征词数量\n",
    "        \n",
    "    返回:\n",
    "        model: 训练好的MultinomialNB模型\n",
    "        vectorizer: 如果使用TF-IDF特征，返回TfidfVectorizer对象；否则返回top_words列表\n",
    "    \"\"\"\n",
    "    # 清空all_words列表，避免多次调用时重复添加\n",
    "    global all_words\n",
    "    all_words = []\n",
    "    \n",
    "    # 提取特征\n",
    "    feature_matrix, vectorizer = extract_features(feature_type, top_num)\n",
    "    \n",
    "    # 0-126.txt为垃圾邮件标记为1；127-151.txt为普通邮件标记为0\n",
    "    labels = np.array([1]*127 + [0]*24)\n",
    "    \n",
    "    # 训练模型\n",
    "    model = MultinomialNB()\n",
    "    model.fit(feature_matrix, labels)\n",
    "    \n",
    "    return model, vectorizer\n"
   ]
  },
  {
   "cell_type": "code",
   "execution_count": 15,
   "id": "5dea9b63",
   "metadata": {},
   "outputs": [],
   "source": [
    "def predict(filename, model, vectorizer, feature_type='high_freq'):\n",
    "    \"\"\"对未知邮件分类\n",
    "    \n",
    "    参数:\n",
    "        filename: 邮件文件名\n",
    "        model: 训练好的MultinomialNB模型\n",
    "        vectorizer: 如果使用TF-IDF特征，为TfidfVectorizer对象；否则为top_words列表\n",
    "        feature_type: 特征提取方式，'high_freq'表示高频词特征，'tfidf'表示TF-IDF加权特征\n",
    "    \n",
    "    返回:\n",
    "        预测结果，'垃圾邮件'或'普通邮件'\n",
    "    \"\"\"\n",
    "    if feature_type == 'high_freq':\n",
    "        # 构建未知邮件的高频词向量\n",
    "        top_words = vectorizer\n",
    "        words = get_words(filename)\n",
    "        current_vector = np.array(\n",
    "            tuple(map(lambda word: words.count(word), top_words)))\n",
    "        # 预测结果\n",
    "        result = model.predict(current_vector.reshape(1, -1))\n",
    "    \n",
    "    elif feature_type == 'tfidf':\n",
    "        # 构建未知邮件的TF-IDF向量\n",
    "        tfidf_vectorizer = vectorizer\n",
    "        text_content = get_text_content(filename)\n",
    "        current_vector = tfidf_vectorizer.transform([text_content])\n",
    "        # 预测结果\n",
    "        result = model.predict(current_vector)\n",
    "    \n",
    "    else:\n",
    "        raise ValueError(\"Invalid feature_type. Must be 'high_freq' or 'tfidf'\")\n",
    "        \n",
    "    return '垃圾邮件' if result == 1 else '普通邮件'"
   ]
  },
  {
   "cell_type": "code",
   "execution_count": null,
   "id": "04b56cb7",
   "metadata": {},
   "outputs": [
    {
     "name": "stdout",
     "output_type": "stream",
     "text": [
      "使用高频词特征进行训练和预测:\n",
      "151.txt分类情况:垃圾邮件\n",
      "152.txt分类情况:垃圾邮件\n",
      "153.txt分类情况:垃圾邮件\n",
      "154.txt分类情况:垃圾邮件\n",
      "155.txt分类情况:普通邮件\n"
     ]
    }
   ],
   "source": [
    "# 使用高频词特征训练模型和预测\n",
    "print(\"使用高频词特征进行训练和预测:\")\n",
    "high_freq_model, high_freq_vectorizer = train_model(feature_type='high_freq', top_num=100)\n",
    "print('151.txt分类情况:{}'.format(predict('邮件_files/151.txt', high_freq_model, high_freq_vectorizer, 'high_freq')))\n",
    "print('152.txt分类情况:{}'.format(predict('邮件_files/152.txt', high_freq_model, high_freq_vectorizer, 'high_freq')))\n",
    "print('153.txt分类情况:{}'.format(predict('邮件_files/153.txt', high_freq_model, high_freq_vectorizer, 'high_freq')))\n",
    "print('154.txt分类情况:{}'.format(predict('邮件_files/154.txt', high_freq_model, high_freq_vectorizer, 'high_freq')))\n",
    "print('155.txt分类情况:{}'.format(predict('邮件_files/155.txt', high_freq_model, high_freq_vectorizer, 'high_freq')))"
   ]
  },
  {
   "cell_type": "code",
   "execution_count": 17,
   "id": "cebdc5da",
   "metadata": {},
   "outputs": [
    {
     "name": "stdout",
     "output_type": "stream",
     "text": [
      "使用TF-IDF加权特征进行训练和预测:\n"
     ]
    },
    {
     "name": "stderr",
     "output_type": "stream",
     "text": [
      "c:\\Users\\86135\\AppData\\Local\\Programs\\Python\\Python310\\lib\\site-packages\\sklearn\\feature_extraction\\text.py:525: UserWarning: The parameter 'token_pattern' will not be used since 'tokenizer' is not None'\n",
      "  warnings.warn(\n"
     ]
    },
    {
     "name": "stdout",
     "output_type": "stream",
     "text": [
      "151.txt分类情况:垃圾邮件\n",
      "152.txt分类情况:垃圾邮件\n",
      "153.txt分类情况:垃圾邮件\n",
      "154.txt分类情况:垃圾邮件\n",
      "155.txt分类情况:垃圾邮件\n"
     ]
    }
   ],
   "source": [
    "# 使用TF-IDF加权特征训练模型和预测\n",
    "print(\"使用TF-IDF加权特征进行训练和预测:\")\n",
    "tfidf_model, tfidf_vectorizer = train_model(feature_type='tfidf', top_num=100)\n",
    "print('151.txt分类情况:{}'.format(predict('邮件_files/151.txt', tfidf_model, tfidf_vectorizer, 'tfidf')))\n",
    "print('152.txt分类情况:{}'.format(predict('邮件_files/152.txt', tfidf_model, tfidf_vectorizer, 'tfidf')))\n",
    "print('153.txt分类情况:{}'.format(predict('邮件_files/153.txt', tfidf_model, tfidf_vectorizer, 'tfidf')))\n",
    "print('154.txt分类情况:{}'.format(predict('邮件_files/154.txt', tfidf_model, tfidf_vectorizer, 'tfidf')))\n",
    "print('155.txt分类情况:{}'.format(predict('邮件_files/155.txt', tfidf_model, tfidf_vectorizer, 'tfidf')))"
   ]
  }
 ],
 "metadata": {
  "kernelspec": {
   "display_name": "Python 3",
   "language": "python",
   "name": "python3"
  },
  "language_info": {
   "codemirror_mode": {
    "name": "ipython",
    "version": 3
   },
   "file_extension": ".py",
   "mimetype": "text/x-python",
   "name": "python",
   "nbconvert_exporter": "python",
   "pygments_lexer": "ipython3",
   "version": "3.10.2"
  }
 },
 "nbformat": 4,
 "nbformat_minor": 5
}
